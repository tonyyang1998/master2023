{
 "cells": [
  {
   "cell_type": "code",
   "execution_count": 9,
   "metadata": {},
   "outputs": [
    {
     "data": {
      "application/vnd.jupyter.widget-view+json": {
       "model_id": "7c68f1ac3f3d4551a4da418c572a3711",
       "version_major": 2,
       "version_minor": 0
      },
      "text/plain": [
       "Figure(layout=FigureLayout(height='420px'))"
      ]
     },
     "metadata": {},
     "output_type": "display_data"
    }
   ],
   "source": [
    "import gmaps\n",
    "import googlemaps\n",
    "from datetime import datetime\n",
    "import pandas as pd\n",
    "import math\n",
    "\n",
    "\n",
    "with open('gmapsAPIkey.txt') as f:\n",
    "    api_key = f.readline()\n",
    "    f.close\n",
    "\n",
    "\n",
    "gmaps.configure(api_key=api_key)\n",
    "now = datetime.now()\n",
    "\n",
    "path = {0: [(4.967209, 60.423365), (5.121333, 60.356561), (5.121333, 60.356561), (4.966409, 60.431002), (5.326163, 60.395), (5.265, 60.379), (5.265, 60.379), (5.352, 60.3635)]}\n",
    "\n",
    "def swap_tuple_elements(path_dict):\n",
    "    new_path_dict = {}\n",
    "    for key, value in path_dict.items():\n",
    "        new_path = []\n",
    "        for tup in value:\n",
    "            new_tup = (tup[1], tup[0])\n",
    "            new_path.append(new_tup)\n",
    "        new_path_dict[key] = new_path\n",
    "    return new_path_dict\n",
    "\n",
    "# Swap the tuple elements of the path dictionary\n",
    "actual_path_dict = swap_tuple_elements(path)\n",
    "\n",
    "# Create the map\n",
    "fig = gmaps.figure()\n",
    "\n",
    "# Iterate over all the paths and draw each path as a separate layer\n",
    "for key, coordinates in actual_path_dict.items():\n",
    "    # Create the path layer\n",
    "    path_layer = gmaps.directions.Directions(\n",
    "        coordinates[0],\n",
    "        coordinates[-1],\n",
    "        waypoints=coordinates[1:-1],\n",
    "        mode='DRIVING',\n",
    "        stroke_color='blue',\n",
    "        stroke_weight=3.0\n",
    "    )\n",
    "\n",
    "    # Add the path layer to the map\n",
    "    fig.add_layer(path_layer)\n",
    "\n",
    "# Display the map\n",
    "fig"
   ]
  }
 ],
 "metadata": {
  "kernelspec": {
   "display_name": "Python 3.10.8 64-bit",
   "language": "python",
   "name": "python3"
  },
  "language_info": {
   "codemirror_mode": {
    "name": "ipython",
    "version": 3
   },
   "file_extension": ".py",
   "mimetype": "text/x-python",
   "name": "python",
   "nbconvert_exporter": "python",
   "pygments_lexer": "ipython3",
   "version": "3.8.8"
  },
  "orig_nbformat": 4,
  "vscode": {
   "interpreter": {
    "hash": "aee8b7b246df8f9039afb4144a1f6fd8d2ca17a180786b69acc140d282b71a49"
   }
  }
 },
 "nbformat": 4,
 "nbformat_minor": 2
}
