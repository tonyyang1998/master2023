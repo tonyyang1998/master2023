{
 "cells": [
  {
   "cell_type": "code",
   "execution_count": 1,
   "metadata": {},
   "outputs": [
    {
     "data": {
      "application/vnd.jupyter.widget-view+json": {
       "model_id": "4495b7e895b54ae7b58a2690bf12082b",
       "version_major": 2,
       "version_minor": 0
      },
      "text/plain": [
       "Figure(layout=FigureLayout(height='420px'))"
      ]
     },
     "execution_count": 1,
     "metadata": {},
     "output_type": "execute_result"
    }
   ],
   "source": [
    "import gmaps\n",
    "import googlemaps\n",
    "from datetime import datetime\n",
    "import pandas as pd\n",
    "import math\n",
    "\n",
    "\n",
    "with open('gmapsAPIkey.txt') as f:\n",
    "    api_key = f.readline()\n",
    "    f.close\n",
    "\n",
    "\n",
    "gmaps.configure(api_key=api_key)\n",
    "now = datetime.now()\n",
    "\n",
    "path = {\n",
    "    0: [(5.087813, 60.352223), (5.145244, 60.3591), (5.326163, 60.395409)],\n",
    "    1: [(5.352, 60.3635), ((5.259, 60.291))],\n",
    "}\n",
    "\n",
    "def swap_tuple_elements(path_dict):\n",
    "    new_path_dict = {}\n",
    "    for key, value in path_dict.items():\n",
    "        new_path = []\n",
    "        for tup in value:\n",
    "            new_tup = (tup[1], tup[0])\n",
    "            new_path.append(new_tup)\n",
    "        new_path_dict[key] = new_path\n",
    "    return new_path_dict\n",
    "\n",
    "# Swap the tuple elements of the path dictionary\n",
    "actual_path_dict = swap_tuple_elements(path)\n",
    "\n",
    "# Create the map\n",
    "fig = gmaps.figure()\n",
    "\n",
    "# Iterate over all the paths and draw each path as a separate layer\n",
    "for key, coordinates in actual_path_dict.items():\n",
    "    # Create the path layer\n",
    "    path_layer = gmaps.directions.Directions(\n",
    "        coordinates[0],\n",
    "        coordinates[-1],\n",
    "        waypoints=coordinates[1:-1],\n",
    "        mode='DRIVING',\n",
    "        stroke_color='blue',\n",
    "        stroke_weight=3.0\n",
    "    )\n",
    "\n",
    "    # Add the path layer to the map\n",
    "    fig.add_layer(path_layer)\n",
    "\n",
    "# Display the map\n",
    "fig"
   ]
  }
 ],
 "metadata": {
  "kernelspec": {
   "display_name": "Python 3.10.8 64-bit",
   "language": "python",
   "name": "python3"
  },
  "language_info": {
   "codemirror_mode": {
    "name": "ipython",
    "version": 3
   },
   "file_extension": ".py",
   "mimetype": "text/x-python",
   "name": "python",
   "nbconvert_exporter": "python",
   "pygments_lexer": "ipython3",
   "version": "3.10.8"
  },
  "orig_nbformat": 4,
  "vscode": {
   "interpreter": {
    "hash": "aee8b7b246df8f9039afb4144a1f6fd8d2ca17a180786b69acc140d282b71a49"
   }
  }
 },
 "nbformat": 4,
 "nbformat_minor": 2
}
